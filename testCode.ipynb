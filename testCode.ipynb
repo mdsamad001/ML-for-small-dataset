{
 "cells": [
  {
   "cell_type": "code",
   "execution_count": 1,
   "metadata": {
    "collapsed": false
   },
   "outputs": [
    {
     "name": "stderr",
     "output_type": "stream",
     "text": [
      "/Users/mdsamad/anaconda3/lib/python3.5/site-packages/sklearn/cross_validation.py:41: DeprecationWarning: This module was deprecated in version 0.18 in favor of the model_selection module into which all the refactored classes and functions are moved. Also note that the interface of the new CV iterators are different from that of this module. This module will be removed in 0.20.\n",
      "  \"This module will be removed in 0.20.\", DeprecationWarning)\n"
     ]
    },
    {
     "name": "stdout",
     "output_type": "stream",
     "text": [
      "Input data dimension after processing (130, 13)\n",
      "Input data dimension after processing: (130, 13)\n",
      "For dimension 1\n",
      "Best mean AUC 0.996428571429\n",
      "Best std AUC 0.00762276694932\n",
      "Time elapsed 0.5536630153656006\n",
      "For total combinations of 13\n",
      "proline\n",
      "For dimension 2\n",
      "Best mean AUC 1.0\n",
      "Best std AUC 0.0\n",
      "Time elapsed 3.132351875305176\n",
      "For total combinations of 78\n",
      "malic_acid\n",
      "proline\n",
      "For dimension 3\n",
      "Best mean AUC 1.0\n",
      "Best std AUC 0.0\n",
      "Time elapsed 11.838399887084961\n",
      "For total combinations of 286\n",
      "alcohol\n",
      "malic_acid\n",
      "proline\n",
      "Best dimension 2\n",
      "Best feature AUC 1.0\n",
      "Best Feature Combinaiton ['malic_acid', 'proline']\n",
      "Coefficients [[-0.5508221  -2.89837094]]\n",
      "Intercept [ 0.02276112]\n",
      "Decision equation,\n",
      "Y =( -0.550822098601 ) * malic_acid +( -2.89837094499 ) * proline +0.0227611209875\n"
     ]
    }
   ],
   "source": [
    "import myCode as mcd \n",
    "\n",
    "import matplotlib.pyplot as plt\n",
    "%matplotlib inline  \n",
    "\n",
    "Xr, y = mcd.import_data(db_name='wine')    \n",
    "\n",
    "X, bst_coef, mx_fea = mcd.exhAna(Xr,y,cv=10, max_dim=10)\n",
    "#mcd.exhAnaMulti(Xr,y,cv=10, max_dim=10)\n",
    "\n",
    "#deciBndry(X, y, bst_coef=bst_coef, mx_fea= mx_fea)"
   ]
  },
  {
   "cell_type": "code",
   "execution_count": null,
   "metadata": {
    "collapsed": true
   },
   "outputs": [],
   "source": []
  },
  {
   "cell_type": "code",
   "execution_count": null,
   "metadata": {
    "collapsed": true
   },
   "outputs": [],
   "source": []
  },
  {
   "cell_type": "code",
   "execution_count": null,
   "metadata": {
    "collapsed": true
   },
   "outputs": [],
   "source": []
  }
 ],
 "metadata": {
  "anaconda-cloud": {},
  "kernelspec": {
   "display_name": "Python [conda env:anaconda3]",
   "language": "python",
   "name": "conda-env-anaconda3-py"
  },
  "language_info": {
   "codemirror_mode": {
    "name": "ipython",
    "version": 3
   },
   "file_extension": ".py",
   "mimetype": "text/x-python",
   "name": "python",
   "nbconvert_exporter": "python",
   "pygments_lexer": "ipython3",
   "version": "3.5.2"
  }
 },
 "nbformat": 4,
 "nbformat_minor": 1
}
