{
 "cells": [
  {
   "cell_type": "code",
   "execution_count": 1,
   "metadata": {
    "collapsed": false
   },
   "outputs": [
    {
     "name": "stderr",
     "output_type": "stream",
     "text": [
      "/Users/mdsamad/anaconda3/lib/python3.5/site-packages/sklearn/cross_validation.py:41: DeprecationWarning: This module was deprecated in version 0.18 in favor of the model_selection module into which all the refactored classes and functions are moved. Also note that the interface of the new CV iterators are different from that of this module. This module will be removed in 0.20.\n",
      "  \"This module will be removed in 0.20.\", DeprecationWarning)\n"
     ]
    },
    {
     "name": "stdout",
     "output_type": "stream",
     "text": [
      "Input data dimension after processing (130, 13)\n",
      "Input data dimension after processing: (130, 13)\n",
      "For dimension 1\n",
      "Best mean AUC 0.996428571429\n",
      "Best std AUC 0.00762276694932\n",
      "Time elapsed 0.5823609828948975\n",
      "For total combinations of 13\n",
      "proline\n",
      "For dimension 2\n",
      "Best mean AUC 1.0\n",
      "Best std AUC 0.0\n",
      "Time elapsed 3.0728390216827393\n",
      "For total combinations of 78\n",
      "malic_acid\n",
      "proline\n",
      "For dimension 3\n",
      "Best mean AUC 1.0\n",
      "Best std AUC 0.0\n",
      "Time elapsed 12.182904958724976\n",
      "For total combinations of 286\n",
      "alcohol\n",
      "malic_acid\n",
      "proline\n",
      "Best dimension 2\n",
      "Best feature AUC 1.0\n",
      "Best Feature Combinaiton ['malic_acid', 'proline']\n",
      "Coefficients [[-0.5508221  -2.89837094]]\n",
      "Intercept [ 0.02276112]\n",
      "Decision equation,\n",
      "Y =( -0.550822098601 ) * malic_acid +( -2.89837094499 ) * proline +0.0227611209875\n",
      "Plotting 2D map of two best features\n",
      "Top 2 features in the best combinations ['proline', 'malic_acid']\n"
     ]
    },
    {
     "data": {
      "image/png": "[encoded data removed]",
      "text/plain": [
       "<matplotlib.figure.Figure at 0x1a0b6c9da0>"
      ]
     },
     "metadata": {},
     "output_type": "display_data"
    }
   ],
   "source": [
    "import myCode as mcd \n",
    "\n",
    "import matplotlib.pyplot as plt\n",
    "%matplotlib inline  \n",
    "\n",
    "# If input dataset (darray) is in numpy array format. \n",
    "#Also provide a list of feature names in fnm = [fea01, fea02,...]\n",
    "Xr, y = mcd.import_data(dtArray = darray, fNames = fnm, tget=y) \n",
    "\n",
    "# If dataset (df) is a dataframe\n",
    "#Xr, y = mcd.import_data(dtArray = df.values, fNames = list(df), tget=y) \n",
    "\n",
    "# Evaluating using 2 publicly available datasets: wine and titanic\n",
    "\n",
    "Xr, y = mcd.import_data(db_name='wine_2class') \n",
    "\n",
    "# Evaluation via 10 fold cross-validation \n",
    "\n",
    "X, bst_coef, mx_fea = mcd.exhAna(Xr,y,cv=10, max_dim=10)\n",
    "\n",
    "\n",
    "# Obtaining decision boundary plot and co-efficient of best feature importance\n",
    "mcd.deciBndry(X, y, bst_coef=bst_coef, mx_fea= mx_fea)"
   ]
  },
  {
   "cell_type": "code",
   "execution_count": 1,
   "metadata": {
    "collapsed": false
   },
   "outputs": [
    {
     "name": "stderr",
     "output_type": "stream",
     "text": [
      "/Users/mdsamad/anaconda3/lib/python3.5/site-packages/sklearn/cross_validation.py:41: DeprecationWarning: This module was deprecated in version 0.18 in favor of the model_selection module into which all the refactored classes and functions are moved. Also note that the interface of the new CV iterators are different from that of this module. This module will be removed in 0.20.\n",
      "  \"This module will be removed in 0.20.\", DeprecationWarning)\n"
     ]
    },
    {
     "name": "stdout",
     "output_type": "stream",
     "text": [
      "Input data dimension after processing (178, 13)\n",
      "Input data dimension after processing: (178, 13)\n",
      "For dimension 1\n",
      "Best mean AUC 0.932760896511\n",
      "Best std AUC 0.0607882662761\n",
      "Time elapsed 1.8088560104370117\n",
      "For total combinations of 13\n",
      "flavanoids\n",
      "For dimension 2\n",
      "Best mean AUC 0.984520942021\n",
      "Best std AUC 0.0283861421268\n",
      "Time elapsed 8.837702989578247\n",
      "For total combinations of 78\n",
      "alcohol\n",
      "flavanoids\n",
      "For dimension 3\n",
      "Best mean AUC 0.998766233766\n",
      "Best std AUC 0.0037012987013\n",
      "Time elapsed 36.62803602218628\n",
      "For total combinations of 286\n",
      "flavanoids\n",
      "color_intensity\n",
      "proline\n",
      "For dimension 4\n",
      "Best mean AUC 0.999145021645\n",
      "Best std AUC 0.00256493506494\n",
      "Time elapsed 93.0378041267395\n",
      "For total combinations of 715\n",
      "malic_acid\n",
      "flavanoids\n",
      "color_intensity\n",
      "proline\n",
      "For dimension 5\n",
      "Best mean AUC 0.999567099567\n",
      "Best std AUC 0.0012987012987\n",
      "Time elapsed 134.70587301254272\n",
      "For total combinations of 1287\n",
      "alcohol\n",
      "flavanoids\n",
      "color_intensity\n",
      "hue\n",
      "proline\n",
      "For dimension 6\n",
      "Best mean AUC 1.0\n",
      "Best std AUC 0.0\n",
      "Time elapsed 179.3923511505127\n",
      "For total combinations of 1716\n",
      "alcohol\n",
      "ash\n",
      "flavanoids\n",
      "nonflavanoid_phenols\n",
      "hue\n",
      "proline\n",
      "For dimension 7\n",
      "Best mean AUC 1.0\n",
      "Best std AUC 0.0\n",
      "Time elapsed 175.96946716308594\n",
      "For total combinations of 1716\n",
      "alcohol\n",
      "malic_acid\n",
      "ash\n",
      "flavanoids\n",
      "nonflavanoid_phenols\n",
      "color_intensity\n",
      "proline\n",
      "Best dimension 6\n",
      "Best feature AUC 1.0\n",
      "Best Feature Combinaiton ['alcohol', 'ash', 'flavanoids', 'nonflavanoid_phenols', 'hue', 'proline']\n"
     ]
    }
   ],
   "source": [
    "import myCode as mcd \n",
    "\n",
    "# 3 Class classification of wine dataset \n",
    "\n",
    "Xr, y = mcd.import_data(db_name='wine_3class')    \n",
    "\n",
    "mcd.exhAnaMulti(Xr,y,cv=10, max_dim=10)\n"
   ]
  }
 ],
 "metadata": {
  "anaconda-cloud": {},
  "kernelspec": {
   "display_name": "Python [conda env:anaconda3]",
   "language": "python",
   "name": "conda-env-anaconda3-py"
  },
  "language_info": {
   "codemirror_mode": {
    "name": "ipython",
    "version": 3
   },
   "file_extension": ".py",
   "mimetype": "text/x-python",
   "name": "python",
   "nbconvert_exporter": "python",
   "pygments_lexer": "ipython3",
   "version": "3.5.2"
  }
 },
 "nbformat": 4,
 "nbformat_minor": 1
}
