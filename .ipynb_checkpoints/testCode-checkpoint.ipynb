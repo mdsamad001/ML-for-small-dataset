{
 "cells": [
  {
   "cell_type": "code",
   "execution_count": null,
   "metadata": {
    "collapsed": false
   },
   "outputs": [],
   "source": [
    "import myCode as mcd \n",
    "\n",
    "import matplotlib.pyplot as plt\n",
    "%matplotlib inline  \n",
    "\n",
    "# If input dataset (darray) is in numpy array format. \n",
    "#Also provide a list of feature names in fnm = [fea01, fea02,...]\n",
    "#Xr, y = mcd.import_data(dtArray = darray, fNames = fnm, tget=y) \n",
    "\n",
    "# If dataset (df) is a dataframe\n",
    "#Xr, y = mcd.import_data(dtArray = df.values, fNames = list(df), tget=y) \n",
    "\n",
    "# Evaluating using 2 publicly available datasets: wine and titanic\n",
    "\n",
    "Xr, y = mcd.import_data(db_name='wine_2class') \n",
    "\n",
    "# Evaluation via 10 fold cross-validation \n",
    "\n",
    "X, bst_coef, mx_fea = mcd.exhAna(Xr,y,cv=10, max_dim=10)\n",
    "\n",
    "\n",
    "# Obtaining decision boundary plot and co-efficient of best feature importance\n",
    "mcd.deciBndry(X, y, bst_coef=bst_coef, mx_fea= mx_fea)"
   ]
  },
  {
   "cell_type": "code",
   "execution_count": null,
   "metadata": {
    "collapsed": false
   },
   "outputs": [
    {
     "name": "stdout",
     "output_type": "stream",
     "text": [
      "Input data dimension after processing (178, 13)\n",
      "Input data dimension after processing: (178, 13)\n",
      "For dimension 1\n",
      "Best mean AUC 0.926673835424\n",
      "Best std AUC 0.0595546498647\n",
      "Time elapsed 1.2850921154022217\n",
      "For total combinations of 13\n",
      "flavanoids\n",
      "For dimension 2\n",
      "Best mean AUC 0.983642561143\n",
      "Best std AUC 0.0315139326203\n",
      "Time elapsed 7.431834936141968\n",
      "For total combinations of 78\n",
      "alcohol\n",
      "flavanoids\n",
      "For dimension 3\n",
      "Best mean AUC 0.998766233766\n",
      "Best std AUC 0.0037012987013\n",
      "Time elapsed 27.910603046417236\n",
      "For total combinations of 286\n",
      "flavanoids\n",
      "color_intensity\n",
      "proline\n",
      "For dimension 4\n",
      "Best mean AUC 0.999145021645\n",
      "Best std AUC 0.00256493506494\n",
      "Time elapsed 67.05362796783447\n",
      "For total combinations of 715\n",
      "malic_acid\n",
      "flavanoids\n",
      "color_intensity\n",
      "proline\n",
      "For dimension 5\n"
     ]
    }
   ],
   "source": [
    "import myCode as mcd \n",
    "\n",
    "# 3 Class classification of wine dataset \n",
    "\n",
    "Xr, y = mcd.import_data(db_name='wine_3class')    \n",
    "\n",
    "mcd.exhAnaMulti(Xr,y,cv=10, max_dim=10)\n"
   ]
  }
 ],
 "metadata": {
  "anaconda-cloud": {},
  "kernelspec": {
   "display_name": "Python [conda env:anaconda3]",
   "language": "python",
   "name": "conda-env-anaconda3-py"
  },
  "language_info": {
   "codemirror_mode": {
    "name": "ipython",
    "version": 3
   },
   "file_extension": ".py",
   "mimetype": "text/x-python",
   "name": "python",
   "nbconvert_exporter": "python",
   "pygments_lexer": "ipython3",
   "version": "3.5.2"
  }
 },
 "nbformat": 4,
 "nbformat_minor": 1
}
